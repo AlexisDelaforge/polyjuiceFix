{
 "cells": [
  {
   "cell_type": "code",
   "execution_count": 1,
   "id": "ddfb7eb9",
   "metadata": {},
   "outputs": [],
   "source": [
    "%load_ext autoreload\n",
    "%autoreload 2\n",
    "\n",
    "import sys\n",
    "import os\n",
    "\n",
    "sys.path.append('..')"
   ]
  },
  {
   "cell_type": "code",
   "execution_count": 3,
   "id": "5a8e1fd2",
   "metadata": {},
   "outputs": [],
   "source": [
    "# create a spacy processor; this basically calls en_core_web_sm, but can do white tokenization if needed\n",
    "\n",
    "from polyjuice import Polyjuice\n",
    "pj = Polyjuice(is_cuda=True)"
   ]
  },
  {
   "cell_type": "code",
   "execution_count": 43,
   "id": "aad512ca",
   "metadata": {},
   "outputs": [
    {
     "name": "stderr",
     "output_type": "stream",
     "text": [
      "ERROR:polyjuice.polyjuice_wrapper:{'ne'} is not a valid ctrl code. Please choose from {'resemantic', 'restructure', 'negation', 'insert', 'lexical', 'shuffle', 'quantifier', 'delete'}.\n"
     ]
    },
    {
     "data": {
      "text/plain": [
       "[]"
      ]
     },
     "execution_count": 43,
     "metadata": {},
     "output_type": "execute_result"
    }
   ],
   "source": [
    "# sample doc\n",
    "text = \"At the beginning of this episode, we welcome Dr. Faiz Eddine, political writer and researcher.\"\n",
    "pj.perturb(\n",
    "    orig_sent=text,\n",
    "    blanked_sent=\"At the beginning\",\n",
    "    is_complete_blank=False,\n",
    "    ctrl_code=\"ne\",\n",
    "    perplex_thred=None)"
   ]
  },
  {
   "cell_type": "code",
   "execution_count": 33,
   "id": "99c6fb04",
   "metadata": {},
   "outputs": [
    {
     "data": {
      "text/plain": [
       "{'At [BLANK] beginning of this episode, we welcome Dr. Faiz Eddine, political writer and researcher.',\n",
       " 'At [BLANK] we welcome Dr. Faiz Eddine, political [BLANK] writer and researcher.',\n",
       " 'At the beginning of this episode, we [BLANK] welcome Dr. Faiz Eddine, political writer and researcher.'}"
      ]
     },
     "execution_count": 33,
     "metadata": {},
     "output_type": "execute_result"
    }
   ],
   "source": [
    "pj.get_random_blanked_sentences(text, max_blank_block=3)"
   ]
  },
  {
   "cell_type": "code",
   "execution_count": 45,
   "id": "96415d78",
   "metadata": {},
   "outputs": [
    {
     "data": {
      "text/plain": [
       "[[[0, 18]], [[3, 6]], [[15, 16]]]"
      ]
     },
     "execution_count": 45,
     "metadata": {},
     "output_type": "execute_result"
    }
   ],
   "source": [
    "# the underlying search function is:\n",
    "\n",
    "get_random_idxes(\n",
    "    doc, \n",
    "    # only allow selecting from a preset range\n",
    "    pre_selected_idxes=None,\n",
    "    # only select from a subset of dep tags\n",
    "    deps=None, #[\"subj\"],\n",
    "    # blank sub-spans or just single tokens\n",
    "    is_token_only=False,\n",
    "    # maximum number of returned index tuple\n",
    "    max_count=3,\n",
    "    # maximum number of blanks per returned sentence\n",
    "    max_blank_block=1\n",
    ")"
   ]
  },
  {
   "cell_type": "code",
   "execution_count": 48,
   "id": "694708d3",
   "metadata": {},
   "outputs": [
    {
     "data": {
      "text/plain": [
       "['At the beginning of this episode, we welcome Dr. Faiz Eddine, political writer and researcher. <|perturb|> [lexical] [BLANK] [SEP]',\n",
       " 'At the beginning of this episode, we welcome Dr. Faiz Eddine, political writer and researcher. <|perturb|> [lexical] At the beginning of this episode, we welcome Dr. [BLANK] Eddine, political writer and researcher. [SEP]',\n",
       " 'At the beginning of this episode, we welcome Dr. Faiz Eddine, political writer and researcher. <|perturb|> [lexical] At the beginning of this episode, [BLANK] welcome Dr. Faiz Eddine, political writer and researcher. [SEP]']"
      ]
     },
     "execution_count": 48,
     "metadata": {},
     "output_type": "execute_result"
    }
   ],
   "source": [
    "# get prompt calls create_blanked_sents\n",
    "\n",
    "prompts = get_prompts(doc, \n",
    "    # control tag; If none, then everything\n",
    "    tags=[\"lexical\"], \n",
    "    indexes=None\n",
    ")\n",
    "\n",
    "prompts"
   ]
  },
  {
   "cell_type": "code",
   "execution_count": 49,
   "id": "9ce340d2",
   "metadata": {},
   "outputs": [],
   "source": [
    "# get the generator\n",
    "\n",
    "polyjuice = load_generator(\n",
    "    # these are default values\n",
    "    model_path=\"uw-hai/polyjuice\", is_cuda=True\n",
    ")"
   ]
  },
  {
   "cell_type": "code",
   "execution_count": 52,
   "id": "49010675",
   "metadata": {},
   "outputs": [
    {
     "name": "stderr",
     "output_type": "stream",
     "text": [
      "Setting `pad_token_id` to `eos_token_id`:50256 for open-end generation.\n",
      "Setting `pad_token_id` to `eos_token_id`:50256 for open-end generation.\n",
      "Setting `pad_token_id` to `eos_token_id`:50256 for open-end generation.\n"
     ]
    }
   ],
   "source": [
    "# there are other kwargs that can config the model, e.g. top_p, num_beams, etc\n",
    "generated = generate_on_prompts(generator=polyjuice, prompts=prompts)"
   ]
  },
  {
   "cell_type": "code",
   "execution_count": 53,
   "id": "5b43ce6d",
   "metadata": {},
   "outputs": [
    {
     "data": {
      "text/plain": [
       "[['At the beginning of this episode, we found out that Majel Barrett was involved in a scheme to get Dr. Elias Magnus to murder Guillaume and to have Guillaume bring down the Guillaumeans.',\n",
       "  \"At the beginning of this episode, we don't welcome Dr. Kifoski, a political operative who at first turns out to be a pleasant being.\",\n",
       "  \"At the beginning of the episode, we don't welcome Dr. Weldon, political junkie and the real estate developer.\"],\n",
       " ['At the beginning of this episode, we welcome Dr. Maximilian Eddine, political writer and researcher.',\n",
       "  'At the beginning of this episode, we welcome Dr. Daphne Von Rey, auxiliary station Eddine, political writer and researcher.',\n",
       "  'At the beginning of this episode, we welcome Dr. Dr. Eddine, political writer and researcher.'],\n",
       " [\"At the beginning of this episode, we don't welcome Dr. Faiz Eddine, political writer and researcher.\",\n",
       "  'At the beginning of this episode, I found it welcome Dr. Faiz Eddine, political writer and researcher.']]"
      ]
     },
     "execution_count": 53,
     "metadata": {},
     "output_type": "execute_result"
    }
   ],
   "source": [
    "generated"
   ]
  },
  {
   "cell_type": "code",
   "execution_count": 59,
   "id": "689c1b31",
   "metadata": {
    "scrolled": false
   },
   "outputs": [],
   "source": [
    "import numpy as np\n",
    "merged = list(np.concatenate(generated))\n",
    "generated_docs = [processor(str(g)) for g in merged]"
   ]
  },
  {
   "cell_type": "code",
   "execution_count": 63,
   "id": "19c157dd",
   "metadata": {},
   "outputs": [
    {
     "data": {
      "text/plain": [
       "[Munch({'op': 'equal', 'fromz_core': At the beginning of this episode, we, 'toz_core': At the beginning of this episode, we, 'fromz_full': At the beginning of this episode, we welcome, 'toz_full': At the beginning of this episode, we found out that Majel Barrett was involved in a scheme to get}),\n",
       " Munch({'op': 'replace', 'fromz_core': welcome, 'toz_core': found out that Majel Barrett was involved in a scheme to get, 'fromz_full': welcome, 'toz_full': found out that Majel Barrett was involved in a scheme to get}),\n",
       " Munch({'op': 'equal', 'fromz_core': Dr., 'toz_core': Dr., 'fromz_full': Dr. Faiz Eddine, 'toz_full': Dr. Elias Magnus}),\n",
       " Munch({'op': 'replace', 'fromz_core': Faiz Eddine, political writer, 'toz_core': Elias Magnus to murder Guillaume, 'fromz_full': welcome Dr. Faiz Eddine, political writer, 'toz_full': found out that Majel Barrett was involved in a scheme to get Dr. Elias Magnus to murder Guillaume}),\n",
       " Munch({'op': 'equal', 'fromz_core': and, 'toz_core': and, 'fromz_full': political writer and, 'toz_full': murder Guillaume and}),\n",
       " Munch({'op': 'replace', 'fromz_core': researcher, 'toz_core': to have Guillaume bring down the Guillaumeans, 'fromz_full': political writer and researcher, 'toz_full': murder Guillaume and to have Guillaume bring down the Guillaumeans}),\n",
       " Munch({'op': 'equal', 'fromz_core': ., 'toz_core': ., 'fromz_full': ., 'toz_full': .})]"
      ]
     },
     "execution_count": 63,
     "metadata": {},
     "output_type": "execute_result"
    }
   ],
   "source": [
    "# compute editing distances\n",
    "from polyjuice.compute_perturbs import compute_edit_ops\n",
    "\n",
    "eops = [compute_edit_ops(doc, generated_doc) for generated_doc in generated_docs]\n",
    "eops[0]"
   ]
  },
  {
   "cell_type": "code",
   "execution_count": 54,
   "id": "fc75ff40",
   "metadata": {},
   "outputs": [],
   "source": [
    "# filter by perplexity\n",
    "\n",
    "from polyjuice.filters_and_selectors import load_perplex_scorer, compute_delta_perplexity\n",
    "perplex_scorer = load_perplex_scorer(is_cuda=True)"
   ]
  },
  {
   "cell_type": "code",
   "execution_count": null,
   "id": "e9435323",
   "metadata": {},
   "outputs": [],
   "source": []
  },
  {
   "cell_type": "code",
   "execution_count": 66,
   "id": "c7e4f2b0",
   "metadata": {},
   "outputs": [
    {
     "name": "stdout",
     "output_type": "stream",
     "text": [
      "At the beginning of this episode, we found out that Majel Barrett was involved in a scheme to get Dr. Elias Magnus to murder Guillaume and to have Guillaume bring down the Guillaumeans.\n",
      "Munch({'pr_sent': 70.07771301269531, 'pr_phrase': 1.1444091796875e-05})\n",
      "\n",
      "At the beginning of this episode, we don't welcome Dr. Kifoski, a political operative who at first turns out to be a pleasant being.\n",
      "Munch({'pr_sent': 42.57447052001953, 'pr_phrase': 2.288818359375e-05})\n",
      "\n",
      "At the beginning of the episode, we don't welcome Dr. Weldon, political junkie and the real estate developer.\n",
      "Munch({'pr_sent': 18.77056884765625, 'pr_phrase': 0.0})\n",
      "\n",
      "At the beginning of this episode, we welcome Dr. Maximilian Eddine, political writer and researcher.\n",
      "Munch({'pr_sent': 0.4716033935546875, 'pr_phrase': 0.0})\n",
      "\n",
      "At the beginning of this episode, we welcome Dr. Daphne Von Rey, auxiliary station Eddine, political writer and researcher.\n",
      "Munch({'pr_sent': 54.58534240722656, 'pr_phrase': 0.0})\n",
      "\n",
      "At the beginning of this episode, we welcome Dr. Dr. Eddine, political writer and researcher.\n",
      "Munch({'pr_sent': 1.38525390625, 'pr_phrase': 6.173099517822266})\n",
      "\n",
      "At the beginning of this episode, we don't welcome Dr. Faiz Eddine, political writer and researcher.\n",
      "Munch({'pr_sent': 16.94366455078125, 'pr_phrase': 0.0})\n",
      "\n",
      "At the beginning of this episode, I found it welcome Dr. Faiz Eddine, political writer and researcher.\n",
      "Munch({'pr_sent': 25.002540588378906, 'pr_phrase': 0.0})\n",
      "\n"
     ]
    }
   ],
   "source": [
    "# compute perplexities\n",
    "pps = [compute_delta_perplexity(eop, perplex_scorer) for eop in eops]\n",
    "# the computation of this part is briefly described in the paper. \n",
    "\n",
    "for pp, generated_doc in zip(pps, generated_docs):\n",
    "    print(generated_doc)\n",
    "    print(pp)\n",
    "    print()"
   ]
  },
  {
   "cell_type": "code",
   "execution_count": 73,
   "id": "9e85bc8e",
   "metadata": {},
   "outputs": [
    {
     "data": {
      "text/plain": [
       "[At the beginning of this episode, we welcome Dr. Maximilian Eddine, political writer and researcher.,\n",
       " At the beginning of this episode, we welcome Dr. Dr. Eddine, political writer and researcher.]"
      ]
     },
     "execution_count": 73,
     "metadata": {},
     "output_type": "execute_result"
    }
   ],
   "source": [
    "# I usually require both sentence level and phrase level perplexity to be < 10\n",
    "perplex_thred = 10\n",
    "valid_idxes = np.where([pp.pr_sent < perplex_thred and pp.pr_phrase < perplex_thred for pp in pps])[0]\n",
    "valid_eops = [eops[idx] for idx in valid_idxes]\n",
    "valid_generations = [generated_docs[idx] for idx in valid_idxes]\n",
    "valid_generations"
   ]
  },
  {
   "cell_type": "code",
   "execution_count": 76,
   "id": "b8f90a2e",
   "metadata": {},
   "outputs": [
    {
     "data": {
      "text/plain": [
       "[equal] At the beginning of this episode, we welcome Dr. -> At the beginning of this episode, we welcome Dr.\n",
       "\ttag: None\n",
       "\tdep: ROOT\n",
       "\tsem_dist: -1.000\n",
       "[replace] Faiz -> Maximilian\n",
       "\ttag: None\n",
       "\tdep: modifier\n",
       "\tsem_dist: -1.000\n",
       "[equal] Eddine, political writer and researcher. -> Eddine, political writer and researcher.\n",
       "\ttag: None\n",
       "\tdep: obj\n",
       "\tsem_dist: -1.000"
      ]
     },
     "execution_count": 76,
     "metadata": {},
     "output_type": "execute_result"
    }
   ],
   "source": [
    "# can also filter by the match of the tag. the code for this part is quite messy though\n",
    "from polyjuice.compute_perturbs import SentenceMetadata\n",
    "meta = SentenceMetadata(valid_eops[0])\n",
    "meta"
   ]
  },
  {
   "cell_type": "code",
   "execution_count": 77,
   "id": "1d225d54",
   "metadata": {},
   "outputs": [],
   "source": [
    "# compute the control code\n",
    "# first, load sentence similarity measurer\n",
    "\n",
    "from polyjuice.filters_and_selectors import load_distance_scorer, compute_sent_cosine_distance\n",
    "from functools import partial\n",
    "distance_scorer = load_distance_scorer(is_cuda=True)\n",
    "compute_sent_cosine_distance_model = partial(compute_sent_cosine_distance, similarity_scorer=distance_scorer)"
   ]
  },
  {
   "cell_type": "code",
   "execution_count": 79,
   "id": "b655f974",
   "metadata": {},
   "outputs": [
    {
     "data": {
      "text/plain": [
       "0.85998318420456"
      ]
     },
     "execution_count": 79,
     "metadata": {},
     "output_type": "execute_result"
    }
   ],
   "source": [
    "compute_sent_cosine_distance_model(\"the door is open.\", \"the door is closed.\")"
   ]
  },
  {
   "cell_type": "code",
   "execution_count": 82,
   "id": "05dc0bdf",
   "metadata": {},
   "outputs": [
    {
     "data": {
      "text/plain": [
       "[replace] Faiz -> Maximilian\n",
       "\ttag: lexical\n",
       "\tdep: modifier\n",
       "\tsem_dist: 0.662\n",
       "[equal] At the beginning of this episode, we welcome Dr. -> At the beginning of this episode, we welcome Dr.\n",
       "\ttag: equal\n",
       "\tdep: ROOT\n",
       "\tsem_dist: 0.010\n",
       "[equal] Eddine, political writer and researcher. -> Eddine, political writer and researcher.\n",
       "\ttag: equal\n",
       "\tdep: obj\n",
       "\tsem_dist: 0.010"
      ]
     },
     "execution_count": 82,
     "metadata": {},
     "output_type": "execute_result"
    }
   ],
   "source": [
    "meta.compute_metadata(sentence_similarity=compute_sent_cosine_distance_model)\n",
    "meta"
   ]
  },
  {
   "cell_type": "code",
   "execution_count": 84,
   "id": "2daa5f28",
   "metadata": {},
   "outputs": [
    {
     "data": {
      "text/plain": [
       "'lexical'"
      ]
     },
     "execution_count": 84,
     "metadata": {},
     "output_type": "execute_result"
    }
   ],
   "source": [
    "# this is the final tag\n",
    "meta.primary.tag"
   ]
  },
  {
   "cell_type": "code",
   "execution_count": null,
   "id": "bc3215f1",
   "metadata": {},
   "outputs": [],
   "source": []
  }
 ],
 "metadata": {
  "kernelspec": {
   "display_name": "Python 3",
   "language": "python",
   "name": "python3"
  },
  "language_info": {
   "codemirror_mode": {
    "name": "ipython",
    "version": 3
   },
   "file_extension": ".py",
   "mimetype": "text/x-python",
   "name": "python",
   "nbconvert_exporter": "python",
   "pygments_lexer": "ipython3",
   "version": "3.7.10"
  }
 },
 "nbformat": 4,
 "nbformat_minor": 5
}
